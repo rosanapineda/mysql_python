{
 "cells": [
  {
   "cell_type": "code",
   "execution_count": 9,
   "metadata": {},
   "outputs": [
    {
     "data": {
      "text/plain": [
       "{'host': 'localhost',\n",
       " 'database': 'grantdata',\n",
       " 'user': 'root',\n",
       " 'password': 'Terricola07.'}"
      ]
     },
     "execution_count": 9,
     "metadata": {},
     "output_type": "execute_result"
    }
   ],
   "source": [
    "#read first module\n",
    "from python_mysql_dbconfig import read_db_config\n",
    "read_db_config()\n",
    "#{'host': 'localhost', 'database': 'python_mysql', 'user': 'root', 'password': 'SecurePass1!'}"
   ]
  },
  {
   "cell_type": "code",
   "execution_count": 7,
   "metadata": {},
   "outputs": [],
   "source": [
    "#read second module\n",
    "from connect2 import connect"
   ]
  },
  {
   "cell_type": "code",
   "execution_count": 10,
   "metadata": {},
   "outputs": [
    {
     "name": "stdout",
     "output_type": "stream",
     "text": [
      "Connecting to MySQL database...\n",
      "Connection established.\n",
      "Connection closed.\n"
     ]
    }
   ],
   "source": [
    "connect()"
   ]
  },
  {
   "cell_type": "code",
   "execution_count": 12,
   "metadata": {},
   "outputs": [
    {
     "name": "stdout",
     "output_type": "stream",
     "text": [
      "(1, 'rosana', 'cmu', 'rpineda@andrew.cmu.edu\\r')\n",
      "(2, 'laura', 'col', 'lgoyec@andrew.cmu.edu\\r')\n",
      "(3, 'mariana', 'uvm', 'djfd@gmail.com\\r')\n",
      "(4, 'patricia', 'unam', 'djfds@gmail.com\\r')\n",
      "(5, 'juan carlos', 'unam', 'jcpineda@gmail.com\\r')\n"
     ]
    }
   ],
   "source": [
    "def query_with_fetchone():\n",
    "    try:\n",
    "        dbconfig = read_db_config()\n",
    "        conn = MySQLConnection(**dbconfig)\n",
    "        cursor = conn.cursor()\n",
    "        cursor.execute(\"SELECT * FROM investigators\")\n",
    "\n",
    "        row = cursor.fetchone()\n",
    "\n",
    "        while row is not None:\n",
    "            print(row)\n",
    "            row = cursor.fetchone()\n",
    "\n",
    "    except Error as e:\n",
    "        print(e)\n",
    "\n",
    "    finally:\n",
    "        cursor.close()\n",
    "        conn.close()\n",
    "\n",
    "\n",
    "if __name__ == '__main__':\n",
    "    query_with_fetchone()"
   ]
  }
 ],
 "metadata": {
  "kernelspec": {
   "display_name": "Python 3",
   "language": "python",
   "name": "python3"
  },
  "language_info": {
   "codemirror_mode": {
    "name": "ipython",
    "version": 3
   },
   "file_extension": ".py",
   "mimetype": "text/x-python",
   "name": "python",
   "nbconvert_exporter": "python",
   "pygments_lexer": "ipython3",
   "version": "3.7.5"
  }
 },
 "nbformat": 4,
 "nbformat_minor": 2
}
