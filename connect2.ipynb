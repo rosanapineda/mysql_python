{
 "cells": [
  {
   "cell_type": "code",
   "execution_count": 2,
   "metadata": {},
   "outputs": [
    {
     "name": "stdout",
     "output_type": "stream",
     "text": [
      "Connecting to MySQL database...\n",
      "Connection established.\n",
      "Connection closed.\n"
     ]
    }
   ],
   "source": [
    "from mysql.connector import MySQLConnection, Error\n",
    "from python_mysql_dbconfig import read_db_config\n",
    "\n",
    "\n",
    "def connect():\n",
    "    \"\"\" Connect to MySQL database \"\"\"\n",
    "\n",
    "    db_config = read_db_config()\n",
    "    conn = None\n",
    "    try:\n",
    "        print('Connecting to MySQL database...')\n",
    "        conn = MySQLConnection(**db_config)\n",
    "\n",
    "        if conn.is_connected():\n",
    "            print('Connection established.')\n",
    "        else:\n",
    "            print('Connection failed.')\n",
    "\n",
    "    except Error as error:\n",
    "        print(error)\n",
    "\n",
    "    finally:\n",
    "        if conn is not None and conn.is_connected():\n",
    "            conn.close()\n",
    "            print('Connection closed.')\n",
    "\n",
    "\n",
    "if __name__ == '__main__':\n",
    "    connect()"
   ]
  }
 ],
 "metadata": {
  "kernelspec": {
   "display_name": "Python 3",
   "language": "python",
   "name": "python3"
  },
  "language_info": {
   "codemirror_mode": {
    "name": "ipython",
    "version": 3
   },
   "file_extension": ".py",
   "mimetype": "text/x-python",
   "name": "python",
   "nbconvert_exporter": "python",
   "pygments_lexer": "ipython3",
   "version": "3.7.5"
  }
 },
 "nbformat": 4,
 "nbformat_minor": 2
}
